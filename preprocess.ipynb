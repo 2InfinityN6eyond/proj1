{
 "cells": [
  {
   "cell_type": "code",
   "execution_count": 4,
   "id": "53e27518",
   "metadata": {},
   "outputs": [
    {
     "name": "stdout",
     "output_type": "stream",
     "text": [
      "['bulk_115s_01.csv', 'bulk_130s_01.csv', 'bulk_170s_01.csv', 'bulk_xs_01.csv', 'bulk_xs_02.csv', 'bulk_xs_03.csv', 'bulk_xs_04.csv', 'bulk_xs_05.csv', 'bulk_xs_06.csv', 'bulk_xs_07.csv', 'bulk_xs_08.csv', 'bulk_xs_09.csv', 'bulk_xs_10.csv', 'bulk_xs_11.csv', 'bulk_xs_12.csv', 'bulk_xs_16.csv', 'interactive_01.csv', 'interactive_02.csv', 'interactive_03.csv', 'interactive_04.csv', 'interactive_05.csv', 'interactive_06.csv', 'interactive_07.csv', 'interactive_08.csv', 'interactive_13.csv', 'interactive_14.csv', 'interactive_15.csv', 'interactive_16.csv', 'interactive_17.csv', 'interactive_18.csv', 'interactive_shell_01.csv', 'interactive_shell_02.csv', 'interactive_shell_03.csv', 'interactive_shell_04.csv', 'interactive_shell_05.csv', 'interactive_shell_06.csv', 'interactive_shell_07.csv', 'interactive_shell_08.csv', 'interactive_shell_09.csv', 'interactive_shell_10.csv', 'interactive_shell_11.csv', 'interactive_shell_12.csv', 'interactive_shell_13.csv', 'interactive_shell_14.csv', 'interactive_shell_15.csv', 'interactive_shell_16.csv', 'interactive_shell_17.csv', 'interactive_shell_18.csv', 'interactive_shell_19.csv', 'interactive_shell_20.csv', 'video_180s1080p_01.csv', 'video_180s1080p_02.csv', 'video_180s1080p_03.csv', 'video_180s1080p_04.csv', 'video_180s1080p_05.csv', 'video_180s480p_01.csv', 'video_180s480p_02.csv', 'video_180s720p_01.csv', 'video_180s720p_02.csv', 'video_180s720p_03.csv', 'video_180s720p_04.csv', 'video_180s720p_05.csv', 'video_180s720p_06.csv', 'video_180s720p_07.csv', 'video_210s480p_01.csv', 'web_1page_04.csv', 'web_1page_05.csv', 'web_1page_06.csv', 'web_1page_07.csv', 'web_2page_01.csv', 'web_2page_02.csv', 'web_2page_03.csv', 'web_2page_04.csv', 'web_2page_05.csv', 'web_2page_06.csv', 'web_3page_01.csv', 'web_3page_02.csv', 'web_3page_03.csv', 'web_3page_04.csv', 'web_multiple_01.csv', 'web_multiple_02.csv', 'web_multiple_04.csv', 'web_multiple_05.csv', 'web_multiple_06.csv']\n"
     ]
    }
   ],
   "source": [
    "import os\n",
    "import time\n",
    "import pandas as pd\n",
    "import numpy as np\n",
    "import tqdm\n",
    "\n",
    "from pprint import PrettyPrinter\n",
    "pprint = PrettyPrinter(indent=2).pprint\n",
    "\n",
    "file_name_class_map = {\n",
    "    \"interactive\" : 0,\n",
    "    \"bulk\" : 1,\n",
    "    \"video\" : 3,\n",
    "    \"web\" : 4\n",
    "}\n",
    "\n",
    "DATA_ROOT_PATH = \"./data\"\n",
    "RAW_DATA_DIR_PATH = os.path.join(DATA_ROOT_PATH, \"train\")\n",
    "\n",
    "raw_csv_name_list = list(filter(\n",
    "    lambda file_name : not os.path.isdir(file_name) and \"._\" not in file_name,\n",
    "    sorted(os.listdir(RAW_DATA_DIR_PATH))\n",
    "))\n",
    "\n",
    "print(raw_csv_name_list)\n",
    "\n",
    "file_class_list = list(map(\n",
    "    lambda file_name : file_name_class_map[file_name.split('_')[0]],\n",
    "    raw_csv_name_list\n",
    "))"
   ]
  },
  {
   "cell_type": "code",
   "execution_count": 76,
   "id": "a057ff52",
   "metadata": {},
   "outputs": [],
   "source": [
    "def preprocessCsvFile(\n",
    "    file_path,\n",
    "    file_class,\n",
    "    min_count_thresh = 40,\n",
    "    window_size = 11\n",
    ") :\n",
    "\n",
    "    data = pd.read_csv(file_path)\n",
    "    data[\"strftime\"] = list(map(\n",
    "        lambda epoch_time : time.strftime(\"%Y/%m/%d/ %H:%M:%S\", time.localtime(epoch_time)),\n",
    "        data[\"time\"]\n",
    "    ))\n",
    "    #mask = data.groupby([\"strftime\", \"ip_dst\"])[\"ip_dst\"].transform(\"count\") > min_count_thresh\n",
    "    #filtered_data.filter(lambda x : len(x) > min_count_thresh)\n",
    "    #filtered_data = data[mask]\n",
    "    #filtered_data_np = filtered_data[\"data_len\"].to_numpy()\n",
    "\n",
    "    data[\"hash\"] = list(map(\n",
    "        lambda epoch_time, ip_dst : int(epoch_time) * 1000**4 + sum(list(map(\n",
    "            lambda val, idx : int(val) * 1000**idx,\n",
    "            ip_dst.split('.'),\n",
    "            range(3, -1, -1)\n",
    "        ))),\n",
    "        data[\"time\"],\n",
    "        data[\"ip_dst\"]\n",
    "    ))\n",
    "    data_np = data[[\"hash\", \"data_len\"]].to_numpy()\n",
    "\n",
    "    unique_hashes, counts = np.unique(data_np[:, 0], return_counts=True)\n",
    "    data_filtered_np = data_np[\n",
    "        np.isin(data[:, 0], unique_hashes[counts > min_count_thresh])\n",
    "    ]\n",
    "    \n",
    "    filtered_windowed_np = np.array(list(map(\n",
    "        lambda idx : data_filtered_np[:, 1][idx:-(window_size-idx)],\n",
    "        range(window_size)\n",
    "    ))).T\n",
    "\n",
    "    filtered_windowed = pd.DataFrame(\n",
    "        filtered_windowed_np,\n",
    "        columns = list(map(\n",
    "            lambda i : f\"traffic(t-{i})\",\n",
    "            range(window_size-1, -1, -1)\n",
    "        ))\n",
    "    )\n",
    "    print(file_path, len(data), len(data_filtered_np), len(data) - len(data_filtered_np))\n",
    "    return filtered_windowed"
   ]
  },
  {
   "cell_type": "code",
   "execution_count": 51,
   "id": "4902767d",
   "metadata": {},
   "outputs": [
    {
     "name": "stderr",
     "output_type": "stream",
     "text": [
      "  1%|          | 1/84 [00:00<00:44,  1.88it/s]"
     ]
    },
    {
     "name": "stdout",
     "output_type": "stream",
     "text": [
      "./data/train/bulk_115s_01.csv 324370 324361 9\n"
     ]
    },
    {
     "name": "stderr",
     "output_type": "stream",
     "text": [
      "  2%|▏         | 2/84 [00:01<00:53,  1.54it/s]"
     ]
    },
    {
     "name": "stdout",
     "output_type": "stream",
     "text": [
      "./data/train/bulk_130s_01.csv 465190 465143 47\n"
     ]
    },
    {
     "name": "stderr",
     "output_type": "stream",
     "text": [
      "  4%|▎         | 3/84 [00:01<00:55,  1.47it/s]"
     ]
    },
    {
     "name": "stdout",
     "output_type": "stream",
     "text": [
      "./data/train/bulk_170s_01.csv 449725 449710 15\n"
     ]
    },
    {
     "name": "stderr",
     "output_type": "stream",
     "text": [
      "  5%|▍         | 4/84 [00:02<00:54,  1.46it/s]"
     ]
    },
    {
     "name": "stdout",
     "output_type": "stream",
     "text": [
      "./data/train/bulk_xs_01.csv 435648 435629 19\n"
     ]
    },
    {
     "name": "stderr",
     "output_type": "stream",
     "text": [
      "  6%|▌         | 5/84 [00:03<00:45,  1.75it/s]"
     ]
    },
    {
     "name": "stdout",
     "output_type": "stream",
     "text": [
      "./data/train/bulk_xs_02.csv 222544 222527 17\n"
     ]
    },
    {
     "name": "stderr",
     "output_type": "stream",
     "text": [
      "  8%|▊         | 7/84 [00:03<00:34,  2.21it/s]"
     ]
    },
    {
     "name": "stdout",
     "output_type": "stream",
     "text": [
      "./data/train/bulk_xs_03.csv 429864 429841 23\n",
      "./data/train/bulk_xs_04.csv 77338 77296 42\n"
     ]
    },
    {
     "name": "stderr",
     "output_type": "stream",
     "text": [
      " 10%|▉         | 8/84 [00:04<00:27,  2.80it/s]"
     ]
    },
    {
     "name": "stdout",
     "output_type": "stream",
     "text": [
      "./data/train/bulk_xs_05.csv 85068 85033 35\n"
     ]
    },
    {
     "name": "stderr",
     "output_type": "stream",
     "text": [
      " 11%|█         | 9/84 [00:04<00:29,  2.56it/s]"
     ]
    },
    {
     "name": "stdout",
     "output_type": "stream",
     "text": [
      "./data/train/bulk_xs_06.csv 291521 291506 15\n"
     ]
    },
    {
     "name": "stderr",
     "output_type": "stream",
     "text": [
      " 12%|█▏        | 10/84 [00:05<00:45,  1.63it/s]"
     ]
    },
    {
     "name": "stdout",
     "output_type": "stream",
     "text": [
      "./data/train/bulk_xs_07.csv 704629 704605 24\n"
     ]
    },
    {
     "name": "stderr",
     "output_type": "stream",
     "text": [
      " 13%|█▎        | 11/84 [00:06<00:51,  1.42it/s]"
     ]
    },
    {
     "name": "stdout",
     "output_type": "stream",
     "text": [
      "./data/train/bulk_xs_08.csv 577735 577719 16\n"
     ]
    },
    {
     "name": "stderr",
     "output_type": "stream",
     "text": [
      " 15%|█▌        | 13/84 [00:06<00:31,  2.23it/s]"
     ]
    },
    {
     "name": "stdout",
     "output_type": "stream",
     "text": [
      "./data/train/bulk_xs_09.csv 212347 212163 184\n",
      "./data/train/bulk_xs_10.csv 61929 61903 26\n"
     ]
    },
    {
     "name": "stderr",
     "output_type": "stream",
     "text": [
      " 18%|█▊        | 15/84 [00:07<00:19,  3.56it/s]"
     ]
    },
    {
     "name": "stdout",
     "output_type": "stream",
     "text": [
      "./data/train/bulk_xs_11.csv 71307 71284 23\n",
      "./data/train/bulk_xs_12.csv 75051 75019 32\n"
     ]
    },
    {
     "name": "stderr",
     "output_type": "stream",
     "text": [
      " 40%|████      | 34/84 [00:07<00:01, 26.12it/s]"
     ]
    },
    {
     "name": "stdout",
     "output_type": "stream",
     "text": [
      "./data/train/bulk_xs_16.csv 193000 192849 151\n",
      "./data/train/interactive_01.csv 2472 0 2472\n",
      "./data/train/interactive_02.csv 2104 0 2104\n",
      "./data/train/interactive_03.csv 2913 0 2913\n",
      "./data/train/interactive_04.csv 2615 0 2615\n",
      "./data/train/interactive_05.csv 2305 0 2305\n",
      "./data/train/interactive_06.csv 1886 0 1886\n",
      "./data/train/interactive_07.csv 1849 48 1801\n",
      "./data/train/interactive_08.csv 3515 0 3515\n",
      "./data/train/interactive_13.csv 2540 0 2540\n",
      "./data/train/interactive_14.csv 2377 0 2377\n",
      "./data/train/interactive_15.csv 2499 0 2499\n",
      "./data/train/interactive_16.csv 2285 0 2285\n",
      "./data/train/interactive_17.csv 2693 0 2693\n",
      "./data/train/interactive_18.csv 2845 0 2845\n",
      "./data/train/interactive_shell_01.csv 1675 0 1675\n",
      "./data/train/interactive_shell_02.csv 414 0 414\n",
      "./data/train/interactive_shell_03.csv 685 0 685\n",
      "./data/train/interactive_shell_04.csv 1090 0 1090\n",
      "./data/train/interactive_shell_05.csv 1108 0 1108\n",
      "./data/train/interactive_shell_06.csv 974 0 974\n",
      "./data/train/interactive_shell_07.csv 629 0 629\n",
      "./data/train/interactive_shell_08.csv 477 0 477\n",
      "./data/train/interactive_shell_09.csv 458 0 458\n",
      "./data/train/interactive_shell_10.csv 635 0 635\n",
      "./data/train/interactive_shell_11.csv 1703 42 1661\n",
      "./data/train/interactive_shell_12.csv 930 0 930\n",
      "./data/train/interactive_shell_13.csv 1600 0 1600\n",
      "./data/train/interactive_shell_14.csv 1236 0 1236\n",
      "./data/train/interactive_shell_15.csv 1924 0 1924\n",
      "./data/train/interactive_shell_16.csv 2076 0 2076\n",
      "./data/train/interactive_shell_17.csv 1262 0 1262\n",
      "./data/train/interactive_shell_18.csv 839 0 839\n",
      "./data/train/interactive_shell_19.csv 1066 0 1066\n",
      "./data/train/interactive_shell_20.csv 873 0 873\n"
     ]
    },
    {
     "name": "stderr",
     "output_type": "stream",
     "text": [
      " 61%|██████    | 51/84 [00:07<00:00, 39.85it/s]"
     ]
    },
    {
     "name": "stdout",
     "output_type": "stream",
     "text": [
      "./data/train/video_180s1080p_01.csv 108951 108400 551\n",
      "./data/train/video_180s1080p_02.csv 53561 52934 627\n",
      "./data/train/video_180s1080p_03.csv 87324 86902 422\n",
      "./data/train/video_180s1080p_04.csv 83383 83009 374\n"
     ]
    },
    {
     "name": "stderr",
     "output_type": "stream",
     "text": [
      " 69%|██████▉   | 58/84 [00:08<00:01, 24.86it/s]"
     ]
    },
    {
     "name": "stdout",
     "output_type": "stream",
     "text": [
      "./data/train/video_180s1080p_05.csv 80067 79718 349\n",
      "./data/train/video_180s480p_01.csv 14711 14382 329\n",
      "./data/train/video_180s480p_02.csv 18184 17730 454\n",
      "./data/train/video_180s720p_01.csv 28935 28386 549\n",
      "./data/train/video_180s720p_02.csv 14576 14176 400\n",
      "./data/train/video_180s720p_03.csv 23125 22743 382\n",
      "./data/train/video_180s720p_04.csv 9406 9093 313\n"
     ]
    },
    {
     "name": "stderr",
     "output_type": "stream",
     "text": [
      " 83%|████████▎ | 70/84 [00:08<00:00, 29.12it/s]"
     ]
    },
    {
     "name": "stdout",
     "output_type": "stream",
     "text": [
      "./data/train/video_180s720p_05.csv 51542 51163 379\n",
      "./data/train/video_180s720p_06.csv 52798 52368 430\n",
      "./data/train/video_180s720p_07.csv 19095 18659 436\n",
      "./data/train/video_210s480p_01.csv 19840 19478 362\n",
      "./data/train/web_1page_04.csv 4174 3337 837\n",
      "./data/train/web_1page_05.csv 568 390 178\n",
      "./data/train/web_1page_06.csv 1940 1439 501\n",
      "./data/train/web_1page_07.csv 6832 6293 539\n",
      "./data/train/web_2page_01.csv 1498 1001 497\n",
      "./data/train/web_2page_02.csv 4041 3330 711\n",
      "./data/train/web_2page_03.csv 2287 1816 471\n"
     ]
    },
    {
     "name": "stderr",
     "output_type": "stream",
     "text": [
      "100%|██████████| 84/84 [00:08<00:00,  9.34it/s]\n"
     ]
    },
    {
     "name": "stdout",
     "output_type": "stream",
     "text": [
      "./data/train/web_2page_04.csv 3569 2994 575\n",
      "./data/train/web_2page_05.csv 4156 3492 664\n",
      "./data/train/web_2page_06.csv 1321 1009 312\n",
      "./data/train/web_3page_01.csv 2721 1894 827\n",
      "./data/train/web_3page_02.csv 14502 10278 4224\n",
      "./data/train/web_3page_03.csv 2306 1656 650\n",
      "./data/train/web_3page_04.csv 3579 2862 717\n",
      "./data/train/web_multiple_01.csv 3588 2315 1273\n",
      "./data/train/web_multiple_02.csv 3356 2653 703\n",
      "./data/train/web_multiple_04.csv 35107 27638 7469\n",
      "./data/train/web_multiple_05.csv 14124 10120 4004\n",
      "./data/train/web_multiple_06.csv 1844 1245 599\n"
     ]
    }
   ],
   "source": [
    "window_df_list = []\n",
    "with tqdm.tqdm(total=len(raw_csv_name_list)) as pbar :\n",
    "    for file_name, file_class in zip(raw_csv_name_list, file_class_list) :\n",
    "        file_path = os.path.join(RAW_DATA_DIR_PATH, file_name)\n",
    "        window_df_list.append(preprocessCsvFile(file_path, file_class))\n",
    "    \n",
    "        pbar.update(1)\n",
    "    \n",
    "preprocessed_df = pd.concat(window_df_list, axis=0)"
   ]
  },
  {
   "cell_type": "code",
   "execution_count": 77,
   "id": "5f3686e2",
   "metadata": {},
   "outputs": [
    {
     "ename": "InvalidIndexError",
     "evalue": "(slice(None, None, None), 0)",
     "output_type": "error",
     "traceback": [
      "\u001b[0;31m---------------------------------------------------------------------------\u001b[0m",
      "\u001b[0;31mTypeError\u001b[0m                                 Traceback (most recent call last)",
      "File \u001b[0;32m/opt/anaconda3/envs/first/lib/python3.10/site-packages/pandas/core/indexes/base.py:3802\u001b[0m, in \u001b[0;36mIndex.get_loc\u001b[0;34m(self, key, method, tolerance)\u001b[0m\n\u001b[1;32m   3801\u001b[0m \u001b[39mtry\u001b[39;00m:\n\u001b[0;32m-> 3802\u001b[0m     \u001b[39mreturn\u001b[39;00m \u001b[39mself\u001b[39;49m\u001b[39m.\u001b[39;49m_engine\u001b[39m.\u001b[39;49mget_loc(casted_key)\n\u001b[1;32m   3803\u001b[0m \u001b[39mexcept\u001b[39;00m \u001b[39mKeyError\u001b[39;00m \u001b[39mas\u001b[39;00m err:\n",
      "File \u001b[0;32m/opt/anaconda3/envs/first/lib/python3.10/site-packages/pandas/_libs/index.pyx:138\u001b[0m, in \u001b[0;36mpandas._libs.index.IndexEngine.get_loc\u001b[0;34m()\u001b[0m\n",
      "File \u001b[0;32m/opt/anaconda3/envs/first/lib/python3.10/site-packages/pandas/_libs/index.pyx:144\u001b[0m, in \u001b[0;36mpandas._libs.index.IndexEngine.get_loc\u001b[0;34m()\u001b[0m\n",
      "\u001b[0;31mTypeError\u001b[0m: '(slice(None, None, None), 0)' is an invalid key",
      "\nDuring handling of the above exception, another exception occurred:\n",
      "\u001b[0;31mInvalidIndexError\u001b[0m                         Traceback (most recent call last)",
      "Cell \u001b[0;32mIn[77], line 5\u001b[0m\n\u001b[1;32m      3\u001b[0m \u001b[39mfor\u001b[39;00m file_name, file_class \u001b[39min\u001b[39;00m \u001b[39mzip\u001b[39m(raw_csv_name_list, file_class_list) :\n\u001b[1;32m      4\u001b[0m     file_path \u001b[39m=\u001b[39m os\u001b[39m.\u001b[39mpath\u001b[39m.\u001b[39mjoin(RAW_DATA_DIR_PATH, file_name)\n\u001b[0;32m----> 5\u001b[0m     window_df_list\u001b[39m.\u001b[39mappend(preprocessCsvFile(file_path, file_class))\n\u001b[1;32m      8\u001b[0m preprocessed_df \u001b[39m=\u001b[39m pd\u001b[39m.\u001b[39mconcat(window_df_list, axis\u001b[39m=\u001b[39m\u001b[39m0\u001b[39m)\n",
      "Cell \u001b[0;32mIn[76], line 31\u001b[0m, in \u001b[0;36mpreprocessCsvFile\u001b[0;34m(file_path, file_class, min_count_thresh, window_size)\u001b[0m\n\u001b[1;32m     27\u001b[0m data_np \u001b[39m=\u001b[39m data[[\u001b[39m\"\u001b[39m\u001b[39mhash\u001b[39m\u001b[39m\"\u001b[39m, \u001b[39m\"\u001b[39m\u001b[39mdata_len\u001b[39m\u001b[39m\"\u001b[39m]]\u001b[39m.\u001b[39mto_numpy()\n\u001b[1;32m     29\u001b[0m unique_hashes, counts \u001b[39m=\u001b[39m np\u001b[39m.\u001b[39munique(data_np[:, \u001b[39m0\u001b[39m], return_counts\u001b[39m=\u001b[39m\u001b[39mTrue\u001b[39;00m)\n\u001b[1;32m     30\u001b[0m data_filtered_np \u001b[39m=\u001b[39m data_np[\n\u001b[0;32m---> 31\u001b[0m     np\u001b[39m.\u001b[39misin(data[:, \u001b[39m0\u001b[39;49m], unique_hashes[counts \u001b[39m>\u001b[39m min_count_thresh])\n\u001b[1;32m     32\u001b[0m ]\n\u001b[1;32m     34\u001b[0m filtered_windowed_np \u001b[39m=\u001b[39m np\u001b[39m.\u001b[39marray(\u001b[39mlist\u001b[39m(\u001b[39mmap\u001b[39m(\n\u001b[1;32m     35\u001b[0m     \u001b[39mlambda\u001b[39;00m idx : data_filtered_np[:, \u001b[39m1\u001b[39m][idx:\u001b[39m-\u001b[39m(window_size\u001b[39m-\u001b[39midx)],\n\u001b[1;32m     36\u001b[0m     \u001b[39mrange\u001b[39m(window_size)\n\u001b[1;32m     37\u001b[0m )))\u001b[39m.\u001b[39mT\n\u001b[1;32m     39\u001b[0m filtered_windowed \u001b[39m=\u001b[39m pd\u001b[39m.\u001b[39mDataFrame(\n\u001b[1;32m     40\u001b[0m     filtered_windowed_np,\n\u001b[1;32m     41\u001b[0m     columns \u001b[39m=\u001b[39m \u001b[39mlist\u001b[39m(\u001b[39mmap\u001b[39m(\n\u001b[0;32m   (...)\u001b[0m\n\u001b[1;32m     44\u001b[0m     ))\n\u001b[1;32m     45\u001b[0m )\n",
      "File \u001b[0;32m/opt/anaconda3/envs/first/lib/python3.10/site-packages/pandas/core/frame.py:3807\u001b[0m, in \u001b[0;36mDataFrame.__getitem__\u001b[0;34m(self, key)\u001b[0m\n\u001b[1;32m   3805\u001b[0m \u001b[39mif\u001b[39;00m \u001b[39mself\u001b[39m\u001b[39m.\u001b[39mcolumns\u001b[39m.\u001b[39mnlevels \u001b[39m>\u001b[39m \u001b[39m1\u001b[39m:\n\u001b[1;32m   3806\u001b[0m     \u001b[39mreturn\u001b[39;00m \u001b[39mself\u001b[39m\u001b[39m.\u001b[39m_getitem_multilevel(key)\n\u001b[0;32m-> 3807\u001b[0m indexer \u001b[39m=\u001b[39m \u001b[39mself\u001b[39;49m\u001b[39m.\u001b[39;49mcolumns\u001b[39m.\u001b[39;49mget_loc(key)\n\u001b[1;32m   3808\u001b[0m \u001b[39mif\u001b[39;00m is_integer(indexer):\n\u001b[1;32m   3809\u001b[0m     indexer \u001b[39m=\u001b[39m [indexer]\n",
      "File \u001b[0;32m/opt/anaconda3/envs/first/lib/python3.10/site-packages/pandas/core/indexes/base.py:3809\u001b[0m, in \u001b[0;36mIndex.get_loc\u001b[0;34m(self, key, method, tolerance)\u001b[0m\n\u001b[1;32m   3804\u001b[0m         \u001b[39mraise\u001b[39;00m \u001b[39mKeyError\u001b[39;00m(key) \u001b[39mfrom\u001b[39;00m \u001b[39merr\u001b[39;00m\n\u001b[1;32m   3805\u001b[0m     \u001b[39mexcept\u001b[39;00m \u001b[39mTypeError\u001b[39;00m:\n\u001b[1;32m   3806\u001b[0m         \u001b[39m# If we have a listlike key, _check_indexing_error will raise\u001b[39;00m\n\u001b[1;32m   3807\u001b[0m         \u001b[39m#  InvalidIndexError. Otherwise we fall through and re-raise\u001b[39;00m\n\u001b[1;32m   3808\u001b[0m         \u001b[39m#  the TypeError.\u001b[39;00m\n\u001b[0;32m-> 3809\u001b[0m         \u001b[39mself\u001b[39;49m\u001b[39m.\u001b[39;49m_check_indexing_error(key)\n\u001b[1;32m   3810\u001b[0m         \u001b[39mraise\u001b[39;00m\n\u001b[1;32m   3812\u001b[0m \u001b[39m# GH#42269\u001b[39;00m\n",
      "File \u001b[0;32m/opt/anaconda3/envs/first/lib/python3.10/site-packages/pandas/core/indexes/base.py:5925\u001b[0m, in \u001b[0;36mIndex._check_indexing_error\u001b[0;34m(self, key)\u001b[0m\n\u001b[1;32m   5921\u001b[0m \u001b[39mdef\u001b[39;00m \u001b[39m_check_indexing_error\u001b[39m(\u001b[39mself\u001b[39m, key):\n\u001b[1;32m   5922\u001b[0m     \u001b[39mif\u001b[39;00m \u001b[39mnot\u001b[39;00m is_scalar(key):\n\u001b[1;32m   5923\u001b[0m         \u001b[39m# if key is not a scalar, directly raise an error (the code below\u001b[39;00m\n\u001b[1;32m   5924\u001b[0m         \u001b[39m# would convert to numpy arrays and raise later any way) - GH29926\u001b[39;00m\n\u001b[0;32m-> 5925\u001b[0m         \u001b[39mraise\u001b[39;00m InvalidIndexError(key)\n",
      "\u001b[0;31mInvalidIndexError\u001b[0m: (slice(None, None, None), 0)"
     ]
    }
   ],
   "source": [
    "window_df_list = []\n",
    "\n",
    "for file_name, file_class in zip(raw_csv_name_list, file_class_list) :\n",
    "    file_path = os.path.join(RAW_DATA_DIR_PATH, file_name)\n",
    "    window_df_list.append(preprocessCsvFile(file_path, file_class))\n",
    "    \n",
    "    \n",
    "preprocessed_df = pd.concat(window_df_list, axis=0)"
   ]
  },
  {
   "cell_type": "code",
   "execution_count": 36,
   "id": "8a82649a-7070-4087-abc0-3e1b733a4f2d",
   "metadata": {},
   "outputs": [
    {
     "data": {
      "text/plain": [
       "5421009"
      ]
     },
     "execution_count": 36,
     "metadata": {},
     "output_type": "execute_result"
    }
   ],
   "source": [
    "len(preprocessed_df)"
   ]
  },
  {
   "cell_type": "code",
   "execution_count": 37,
   "id": "4cfe6e10",
   "metadata": {},
   "outputs": [
    {
     "name": "stdout",
     "output_type": "stream",
     "text": [
      "(324350, 11)\n"
     ]
    },
    {
     "ename": "NameError",
     "evalue": "name 't_started' is not defined",
     "output_type": "error",
     "traceback": [
      "\u001b[0;31m---------------------------------------------------------------------------\u001b[0m",
      "\u001b[0;31mNameError\u001b[0m                                 Traceback (most recent call last)",
      "Cell \u001b[0;32mIn[37], line 29\u001b[0m\n\u001b[1;32m     26\u001b[0m \u001b[39mprint\u001b[39m(filtered_windowed_np\u001b[39m.\u001b[39mshape)\n\u001b[1;32m     28\u001b[0m t_finished \u001b[39m=\u001b[39m time\u001b[39m.\u001b[39mtime()\n\u001b[0;32m---> 29\u001b[0m \u001b[39mprint\u001b[39m(\u001b[39m\"\u001b[39m\u001b[39mfinished\u001b[39m\u001b[39m\"\u001b[39m, t_finished \u001b[39m-\u001b[39m t_started)\n",
      "\u001b[0;31mNameError\u001b[0m: name 't_started' is not defined"
     ]
    }
   ],
   "source": [
    "FILE_IDX = 0\n",
    "\n",
    "min_count = 40\n",
    "window_size = 11\n",
    "\n",
    "FILE_NAME = raw_csv_name_list[FILE_IDX]\n",
    "FILE_PATH = os.path.join(RAW_DATA_DIR_PATH, FILE_NAME)\n",
    "\n",
    "\n",
    "data = pd.read_csv(FILE_PATH)\n",
    "\n",
    "data[\"strftime\"] = list(map(\n",
    "    lambda epoch_time : time.strftime(\"%Y/%m/%d/ %H:%M:%S\", time.localtime(epoch_time)),\n",
    "    data[\"time\"]\n",
    "))\n",
    "\n",
    "filtered_data = data.groupby([\"strftime\", \"ip_dst\"]).filter(lambda x : len(x) > min_count)\n",
    "\n",
    "filtered_data_np = filtered_data[\"data_len\"].to_numpy()\n",
    "\n",
    "filtered_windowed_np = np.array(list(map(\n",
    "    lambda idx : filtered_data_np[idx:-(window_size-idx)],\n",
    "    range(window_size)\n",
    "))).T\n",
    "\n",
    "print(filtered_windowed_np.shape)\n",
    "\n",
    "t_finished = time.time()\n",
    "print(\"finished\", t_finished - t_started)"
   ]
  },
  {
   "cell_type": "code",
   "execution_count": 78,
   "id": "4dbf8509-e626-4ac6-9dcc-116349ce2ec1",
   "metadata": {},
   "outputs": [
    {
     "name": "stdout",
     "output_type": "stream",
     "text": [
      "./data/train/bulk_115s_01.csv\n",
      "[[1551438658192168001001 58]\n",
      " [1551438659192168001149 230]\n",
      " [1551438659080249099148 603]\n",
      " ...\n",
      " [1551438767192168001149 1448]\n",
      " [1551438767192168001149 1448]\n",
      " [1551438767192168001149 1448]]\n",
      "{1551438740192168001149, 1551438757192168001149, 1551438693192168001149, 1551438725192168001149, 1551438669192168001149, 1551438661192168001149, 1551438665192168001149, 1551438673192168001149, 1551438663192168001149, 1551438697192168001149, 1551438729192168001149, 1551438717192168001149, 1551438659080249099148, 1551438731192168001149, 1551438748192168001149, 1551438765192168001149, 1551438705192168001149, 1551438739192168001149, 1551438756192168001149, 1551438662192168001149, 1551438679192168001149, 1551438696192168001149, 1551438713192168001149, 1551438730192168001149, 1551438747192168001149, 1551438764192168001149, 1551438687192168001149, 1551438658192168001001, 1551438738192168001149, 1551438755192168001149, 1551438666192168001149, 1551438674192168001149, 1551438670192168001149, 1551438682192168001149, 1551438714192168001149, 1551438686192168001149, 1551438718192168001149, 1551438710192168001149, 1551438690192168001149, 1551438722192168001149, 1551438746192168001149, 1551438763192168001149, 1551438703192168001149, 1551438737192168001149, 1551438754192168001149, 1551438677192168001149, 1551438694192168001149, 1551438711192168001149, 1551438728192168001149, 1551438745192168001149, 1551438762192168001149, 1551438685192168001149, 1551438702192168001149, 1551438719192168001149, 1551438736192168001149, 1551438753192168001149, 1551438659192168001149, 1551438667192168001149, 1551438671192168001149, 1551438704192168001149, 1551438678192168001149, 1551438695192168001149, 1551438689192168001149, 1551438706192168001149, 1551438721192168001149, 1551438691192168001149, 1551438723192168001149, 1551438676192168001149, 1551438708192168001149, 1551438727192168001149, 1551438744192168001149, 1551438761192168001149, 1551438701192168001149, 1551438735192168001149, 1551438752192168001149, 1551438675192168001149, 1551438692192168001149, 1551438709192168001149, 1551438726192168001149, 1551438743192168001149, 1551438760192168001149, 1551438683192168001149, 1551438735239255255250, 1551438700192168001149, 1551438736239255255250, 1551438737239255255250, 1551438738239255255250, 1551438734192168001149, 1551438751192168001149, 1551438660192168001255, 1551438691192168001255, 1551438721192168001255, 1551438664192168001149, 1551438672192168001149, 1551438668192168001149, 1551438680192168001149, 1551438712192168001149, 1551438684192168001149, 1551438716192168001149, 1551438688192168001149, 1551438720192168001149, 1551438660192168001149, 1551438742192168001149, 1551438759192168001149, 1551438699192168001149, 1551438733192168001149, 1551438750192168001149, 1551438767192168001149, 1551438707192168001149, 1551438724192168001149, 1551438741192168001149, 1551438758192168001149, 1551438681192168001149, 1551438698192168001149, 1551438715192168001149, 1551438732192168001149, 1551438749192168001149, 1551438766192168001149}\n"
     ]
    }
   ],
   "source": [
    "FILE_IDX = 0\n",
    "\n",
    "min_count = 40\n",
    "window_size = 11\n",
    "\n",
    "FILE_NAME = raw_csv_name_list[FILE_IDX]\n",
    "FILE_PATH = os.path.join(RAW_DATA_DIR_PATH, FILE_NAME)\n",
    "\n",
    "print(FILE_PATH)\n",
    "\n",
    "data = pd.read_csv(FILE_PATH)\n",
    "\n",
    "data[\"strftime\"] = list(map(\n",
    "    lambda epoch_time : time.strftime(\"%Y/%m/%d/ %H:%M:%S\", time.localtime(epoch_time)),\n",
    "    data[\"time\"]\n",
    "))\n",
    "\n",
    "data[\"hash\"] = list(map(\n",
    "    lambda epoch_time, ip_dst : int(epoch_time) * 1000**4 + sum(list(map(\n",
    "        lambda val, idx : int(val) * 1000**idx,\n",
    "        ip_dst.split('.'),\n",
    "        range(3, -1, -1)\n",
    "    ))),\n",
    "    data[\"time\"],\n",
    "    data[\"ip_dst\"]\n",
    "))\n",
    "data_np = data[[\"hash\", \"data_len\"]].to_numpy()\n",
    "\n",
    "#unique_hashes, counts = np.unique(data_np[:, 0], return_counts=True)\n",
    "#data_filtered_np = data_np[\n",
    "#    np.isin(data[:, 0], unique_hashes[counts > min_count_thresh])\n",
    "#]\n",
    "\n",
    "print(data_np)\n",
    "\n",
    "print(set(data_np[:, 0]))\n",
    "\n"
   ]
  },
  {
   "cell_type": "code",
   "execution_count": 81,
   "id": "b2916bfd",
   "metadata": {},
   "outputs": [
    {
     "ename": "OverflowError",
     "evalue": "Python int too large to convert to C long",
     "output_type": "error",
     "traceback": [
      "\u001b[0;31m---------------------------------------------------------------------------\u001b[0m",
      "\u001b[0;31mOverflowError\u001b[0m                             Traceback (most recent call last)",
      "Cell \u001b[0;32mIn[81], line 1\u001b[0m\n\u001b[0;32m----> 1\u001b[0m data_np\u001b[39m.\u001b[39;49mastype(np\u001b[39m.\u001b[39;49muint64)\n",
      "\u001b[0;31mOverflowError\u001b[0m: Python int too large to convert to C long"
     ]
    }
   ],
   "source": [
    "data_np.astype(np.uint64)"
   ]
  },
  {
   "cell_type": "code",
   "execution_count": 61,
   "id": "6eacd016",
   "metadata": {},
   "outputs": [
    {
     "name": "stdout",
     "output_type": "stream",
     "text": [
      "[1 2 3] [3 2 1]\n",
      "[[ 1  2  3]\n",
      " [ 1  4  5]\n",
      " [ 2  6  7]\n",
      " [ 1 10 11]\n",
      " [ 2 12 13]]\n"
     ]
    }
   ],
   "source": [
    "arr = np.array([\n",
    "    [1, 2, 3],\n",
    "    [1, 4, 5],\n",
    "    [2, 6, 7],\n",
    "    [3, 8, 9],\n",
    "    [1, 10, 11],\n",
    "    [2, 12, 13]\n",
    "])\n",
    "unique_vals, counts = np.unique(arr[:,0], return_counts=True)\n",
    "\n",
    "print(unique_vals, counts)\n",
    "\n",
    "new_arr = arr[np.isin(arr[:,0], unique_vals[counts > 1])]\n",
    "\n",
    "print(new_arr)"
   ]
  }
 ],
 "metadata": {
  "kernelspec": {
   "display_name": "first",
   "language": "python",
   "name": "python3"
  },
  "language_info": {
   "codemirror_mode": {
    "name": "ipython",
    "version": 3
   },
   "file_extension": ".py",
   "mimetype": "text/x-python",
   "name": "python",
   "nbconvert_exporter": "python",
   "pygments_lexer": "ipython3",
   "version": "3.10.9"
  }
 },
 "nbformat": 4,
 "nbformat_minor": 5
}
